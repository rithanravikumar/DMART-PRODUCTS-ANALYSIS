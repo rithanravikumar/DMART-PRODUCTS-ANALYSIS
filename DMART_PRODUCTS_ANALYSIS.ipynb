{
  "nbformat": 4,
  "nbformat_minor": 0,
  "metadata": {
    "colab": {
      "provenance": [],
      "authorship_tag": "ABX9TyOGpLyrewJZk62tCXW35Dqv",
      "include_colab_link": true
    },
    "kernelspec": {
      "name": "python3",
      "display_name": "Python 3"
    },
    "language_info": {
      "name": "python"
    }
  },
  "cells": [
    {
      "cell_type": "markdown",
      "metadata": {
        "id": "view-in-github",
        "colab_type": "text"
      },
      "source": [
        "<a href=\"https://colab.research.google.com/github/rithanravikumar/DMART-PRODUCTS-ANALYSIS/blob/main/DMART_PRODUCTS_ANALYSIS.ipynb\" target=\"_parent\"><img src=\"https://colab.research.google.com/assets/colab-badge.svg\" alt=\"Open In Colab\"/></a>"
      ]
    },
    {
      "cell_type": "code",
      "execution_count": 1,
      "metadata": {
        "colab": {
          "base_uri": "https://localhost:8080/"
        },
        "id": "CJ49EqcFLn8R",
        "outputId": "bb114c04-fa78-466e-8888-ebcb49f21e54"
      },
      "outputs": [
        {
          "output_type": "stream",
          "name": "stdout",
          "text": [
            "WELCOME TO MY DMART PRODUCTS ANALYSIS\n"
          ]
        }
      ],
      "source": [
        "print(\"WELCOME TO MY DMART PRODUCTS ANALYSIS\")"
      ]
    },
    {
      "cell_type": "code",
      "source": [],
      "metadata": {
        "id": "ulhOe0QXL6iA"
      },
      "execution_count": null,
      "outputs": []
    }
  ]
}